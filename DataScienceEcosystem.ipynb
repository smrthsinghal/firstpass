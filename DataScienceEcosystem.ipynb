{
 "cells": [
  {
   "cell_type": "markdown",
   "id": "87b1a675-d874-4984-ac66-0cb7f3fcfe11",
   "metadata": {},
   "source": [
    "# Data Science Tools and Ecosystem"
   ]
  },
  {
   "cell_type": "markdown",
   "id": "30b3f54d-80aa-4581-900f-71ee3348a340",
   "metadata": {},
   "source": [
    "**In this notebook, Data Science Tools and Ecosystem are summarized.**"
   ]
  },
  {
   "cell_type": "markdown",
   "id": "902ed02f-ea8e-4cec-a6a9-6896ac1fcd82",
   "metadata": {},
   "source": [
    "**Objectives:**\n",
    "* List popular languages for Data Science\n",
    "* List of some commonly used libraries used\n",
    "* List of some open source Data Science Tools \n",
    "* Solving some Arithmetic problems using Python"
   ]
  },
  {
   "cell_type": "markdown",
   "id": "d50524a8-fd18-4d82-91b5-aacf64b1ba7e",
   "metadata": {},
   "source": [
    "Some of the popular languages that Data Scientists use are:\n",
    "1. Python\n",
    "2. R\n",
    "3. Scala"
   ]
  },
  {
   "cell_type": "markdown",
   "id": "4b386db6-e2ac-4842-9a3d-3e7f0ca06ff3",
   "metadata": {},
   "source": [
    "Some of the commonly used libraries used by Data Scientists include:\n",
    "1. Numpy\n",
    "2. Pandas\n",
    "3. Tensorflow\n",
    "4. Scikitlearn\n",
    "5. Matplotlib"
   ]
  },
  {
   "cell_type": "markdown",
   "id": "43cf2968-1b03-47dc-af48-afdafe916b18",
   "metadata": {},
   "source": [
    "| Data Science Tools |\n",
    "| ----- |\n",
    "| JupyterLabs |\n",
    "| RStudio |\n",
    "| IBM Watson Studio |\n",
    "| Github |"
   ]
  },
  {
   "cell_type": "markdown",
   "id": "b7783061-c2c3-48d2-a185-142d5b86d1cc",
   "metadata": {},
   "source": [
    "### Below are a few examples of evaluating arithmetic expressions in Python"
   ]
  },
  {
   "cell_type": "code",
   "execution_count": 1,
   "id": "075880fe-4ecb-44be-a9dd-bc294dbe30b6",
   "metadata": {
    "tags": []
   },
   "outputs": [
    {
     "data": {
      "text/plain": [
       "17"
      ]
     },
     "execution_count": 1,
     "metadata": {},
     "output_type": "execute_result"
    }
   ],
   "source": [
    "# This a simple arithmetic expression to mutiply then add integers\n",
    "(3*4)+5"
   ]
  },
  {
   "cell_type": "code",
   "execution_count": 6,
   "id": "3b77748b-e53f-4e8e-96d7-6757f93a2ede",
   "metadata": {
    "tags": []
   },
   "outputs": [
    {
     "name": "stdout",
     "output_type": "stream",
     "text": [
      "200 minutes is equal to 3.3333333333333335 hours\n"
     ]
    }
   ],
   "source": [
    "# This will convert 200 minutes to hours by diving by 60\n",
    "minutes = 200\n",
    "hours = minutes/60\n",
    "print(\"200 minutes is equal to \"+str(hours)+\" hours\")"
   ]
  },
  {
   "cell_type": "markdown",
   "id": "16a8e6f4-a9ac-4b8e-a501-b2d4b7e903a6",
   "metadata": {},
   "source": [
    "## Author\n",
    "Samarth Singhal"
   ]
  }
 ],
 "metadata": {
  "kernelspec": {
   "display_name": "Python",
   "language": "python",
   "name": "conda-env-python-py"
  },
  "language_info": {
   "codemirror_mode": {
    "name": "ipython",
    "version": 3
   },
   "file_extension": ".py",
   "mimetype": "text/x-python",
   "name": "python",
   "nbconvert_exporter": "python",
   "pygments_lexer": "ipython3",
   "version": "3.7.12"
  }
 },
 "nbformat": 4,
 "nbformat_minor": 5
}
